{
 "cells": [
  {
   "cell_type": "code",
   "execution_count": 60,
   "metadata": {},
   "outputs": [
    {
     "name": "stderr",
     "output_type": "stream",
     "text": [
      "Warning message:\n",
      "“Missing column names filled in: 'X13' [13], 'X14' [14]”Parsed with column specification:\n",
      "cols(\n",
      "  City = \u001b[31mcol_character()\u001b[39m,\n",
      "  Population = \u001b[32mcol_number()\u001b[39m,\n",
      "  Violent_crime = \u001b[32mcol_number()\u001b[39m,\n",
      "  Murder_and_nonnegligent_manslaughter = \u001b[32mcol_double()\u001b[39m,\n",
      "  Forcible_rape = \u001b[32mcol_double()\u001b[39m,\n",
      "  Robbery = \u001b[32mcol_double()\u001b[39m,\n",
      "  Aggravated_assault = \u001b[32mcol_number()\u001b[39m,\n",
      "  Property_crime = \u001b[32mcol_number()\u001b[39m,\n",
      "  Burglary = \u001b[32mcol_number()\u001b[39m,\n",
      "  Larceny_theft = \u001b[32mcol_number()\u001b[39m,\n",
      "  Motor_vehicle_theft = \u001b[32mcol_number()\u001b[39m,\n",
      "  Arson = \u001b[32mcol_double()\u001b[39m,\n",
      "  X13 = \u001b[33mcol_logical()\u001b[39m,\n",
      "  X14 = \u001b[33mcol_logical()\u001b[39m\n",
      ")\n",
      "Parsed with column specification:\n",
      "cols(\n",
      "  City = \u001b[31mcol_character()\u001b[39m,\n",
      "  Population = \u001b[32mcol_number()\u001b[39m,\n",
      "  Violent_crime = \u001b[32mcol_number()\u001b[39m,\n",
      "  Murder_and_nonnegligent_manslaughter = \u001b[32mcol_double()\u001b[39m,\n",
      "  Forcible_rape = \u001b[32mcol_double()\u001b[39m,\n",
      "  Robbery = \u001b[32mcol_number()\u001b[39m,\n",
      "  Aggravated_assault = \u001b[32mcol_number()\u001b[39m,\n",
      "  Property_crime = \u001b[32mcol_number()\u001b[39m,\n",
      "  Burglary = \u001b[32mcol_number()\u001b[39m,\n",
      "  Larceny_theft = \u001b[32mcol_number()\u001b[39m,\n",
      "  Motor_vehicle_theft = \u001b[32mcol_number()\u001b[39m,\n",
      "  Arson = \u001b[32mcol_double()\u001b[39m\n",
      ")\n",
      "Parsed with column specification:\n",
      "cols(\n",
      "  City = \u001b[31mcol_character()\u001b[39m,\n",
      "  Population = \u001b[32mcol_number()\u001b[39m,\n",
      "  Violent_crime = \u001b[32mcol_number()\u001b[39m,\n",
      "  Murder_and_nonnegligent_manslaughter = \u001b[32mcol_double()\u001b[39m,\n",
      "  Forcible_rape = \u001b[32mcol_double()\u001b[39m,\n",
      "  Robbery = \u001b[32mcol_double()\u001b[39m,\n",
      "  Aggravated_assault = \u001b[32mcol_number()\u001b[39m,\n",
      "  Property_crime = \u001b[32mcol_number()\u001b[39m,\n",
      "  Burglary = \u001b[32mcol_number()\u001b[39m,\n",
      "  Larceny_theft = \u001b[32mcol_number()\u001b[39m,\n",
      "  Motor_vehicle_theft = \u001b[32mcol_number()\u001b[39m,\n",
      "  Arson = \u001b[32mcol_double()\u001b[39m\n",
      ")\n",
      "Parsed with column specification:\n",
      "cols(\n",
      "  City = \u001b[31mcol_character()\u001b[39m,\n",
      "  Population = \u001b[32mcol_number()\u001b[39m,\n",
      "  Violent_crime = \u001b[32mcol_number()\u001b[39m,\n",
      "  Murder_and_nonnegligent_manslaughter = \u001b[32mcol_double()\u001b[39m,\n",
      "  Forcible_rape = \u001b[32mcol_double()\u001b[39m,\n",
      "  Robbery = \u001b[32mcol_double()\u001b[39m,\n",
      "  Aggravated_assault = \u001b[32mcol_number()\u001b[39m,\n",
      "  Property_crime = \u001b[32mcol_number()\u001b[39m,\n",
      "  Burglary = \u001b[32mcol_number()\u001b[39m,\n",
      "  Larceny_theft = \u001b[32mcol_number()\u001b[39m,\n",
      "  Motor_vehicle_theft = \u001b[32mcol_number()\u001b[39m,\n",
      "  Arson = \u001b[32mcol_double()\u001b[39m\n",
      ")\n",
      "Parsed with column specification:\n",
      "cols(\n",
      "  City = \u001b[31mcol_character()\u001b[39m,\n",
      "  Population = \u001b[32mcol_number()\u001b[39m,\n",
      "  Violent_crime = \u001b[32mcol_number()\u001b[39m,\n",
      "manslaughter` = \u001b[32mcol_double()\u001b[39m,\n",
      "  Forcible_rape = \u001b[32mcol_double()\u001b[39m,\n",
      "  Robbery = \u001b[32mcol_double()\u001b[39m,\n",
      "  Aggravated_assault = \u001b[32mcol_number()\u001b[39m,\n",
      "  Property_crime = \u001b[32mcol_number()\u001b[39m,\n",
      "  Burglary = \u001b[32mcol_number()\u001b[39m,\n",
      "  Larceny_theft = \u001b[32mcol_number()\u001b[39m,\n",
      "  Motor_vehicle_theft = \u001b[32mcol_number()\u001b[39m,\n",
      "  Arson = \u001b[32mcol_double()\u001b[39m\n",
      ")\n",
      "Parsed with column specification:\n",
      "cols(\n",
      "  City = \u001b[31mcol_character()\u001b[39m,\n",
      "  Population = \u001b[32mcol_number()\u001b[39m,\n",
      "  Violent_crime = \u001b[32mcol_number()\u001b[39m,\n",
      "manslaughter` = \u001b[32mcol_double()\u001b[39m,\n",
      "  Forcible_rape = \u001b[32mcol_double()\u001b[39m,\n",
      "  Robbery = \u001b[32mcol_double()\u001b[39m,\n",
      "  Aggravated_assault = \u001b[32mcol_number()\u001b[39m,\n",
      "  Property_crime = \u001b[32mcol_number()\u001b[39m,\n",
      "  Burglary = \u001b[32mcol_number()\u001b[39m,\n",
      "  Larceny_theft = \u001b[32mcol_number()\u001b[39m,\n",
      "  Motor_vehicle_theft = \u001b[32mcol_number()\u001b[39m,\n",
      "  Arson = \u001b[32mcol_double()\u001b[39m\n",
      ")\n",
      "Parsed with column specification:\n",
      "cols(\n",
      "  City = \u001b[31mcol_character()\u001b[39m,\n",
      "  Population = \u001b[32mcol_number()\u001b[39m,\n",
      "  Violent_crime = \u001b[32mcol_number()\u001b[39m,\n",
      "manslaughter` = \u001b[32mcol_double()\u001b[39m,\n",
      "  Forcible_rape = \u001b[32mcol_double()\u001b[39m,\n",
      "  Robbery = \u001b[32mcol_double()\u001b[39m,\n",
      "  Aggravated_assault = \u001b[32mcol_number()\u001b[39m,\n",
      "  Property_crime = \u001b[32mcol_number()\u001b[39m,\n",
      "  Burglary = \u001b[32mcol_number()\u001b[39m,\n",
      "  Larceny_theft = \u001b[32mcol_number()\u001b[39m,\n",
      "  Motor_vehicle_theft = \u001b[32mcol_number()\u001b[39m,\n",
      "  Arson = \u001b[32mcol_double()\u001b[39m\n",
      ")\n",
      "Warning message:\n",
      "“Missing column names filled in: 'X13' [13]”Parsed with column specification:\n",
      "cols(\n",
      "  City = \u001b[31mcol_character()\u001b[39m,\n",
      "  Population = \u001b[32mcol_number()\u001b[39m,\n",
      "  Violent_crime = \u001b[32mcol_number()\u001b[39m,\n",
      "manslaughter` = \u001b[32mcol_double()\u001b[39m,\n",
      "  Rape = \u001b[32mcol_double()\u001b[39m,\n",
      "  Robbery = \u001b[32mcol_double()\u001b[39m,\n",
      "  Aggravated_assault = \u001b[32mcol_number()\u001b[39m,\n",
      "  Property_crime = \u001b[32mcol_number()\u001b[39m,\n",
      "  Burglary = \u001b[32mcol_number()\u001b[39m,\n",
      "  Larceny_theft = \u001b[32mcol_number()\u001b[39m,\n",
      "  Motor_vehicle_theft = \u001b[32mcol_number()\u001b[39m,\n",
      "  Arson = \u001b[32mcol_double()\u001b[39m,\n",
      "  X13 = \u001b[33mcol_logical()\u001b[39m\n",
      ")\n",
      "Warning message:\n",
      "“Missing column names filled in: 'X13' [13]”Parsed with column specification:\n",
      "cols(\n",
      "  City = \u001b[31mcol_character()\u001b[39m,\n",
      "  Population = \u001b[32mcol_number()\u001b[39m,\n",
      "  Violent_crime = \u001b[32mcol_number()\u001b[39m,\n",
      "  Murder_and_nonnegligent_manslaughter = \u001b[32mcol_double()\u001b[39m,\n",
      "  Rape = \u001b[32mcol_double()\u001b[39m,\n",
      "  Robbery = \u001b[32mcol_double()\u001b[39m,\n",
      "  Aggravated_assault = \u001b[32mcol_number()\u001b[39m,\n",
      "  Property_crime = \u001b[32mcol_number()\u001b[39m,\n",
      "  Burglary = \u001b[32mcol_number()\u001b[39m,\n",
      "  Larceny_theft = \u001b[32mcol_number()\u001b[39m,\n",
      "  Motor_vehicle_theft = \u001b[32mcol_double()\u001b[39m,\n",
      "  Arson = \u001b[32mcol_double()\u001b[39m,\n",
      "  X13 = \u001b[33mcol_logical()\u001b[39m\n",
      ")\n",
      "Warning message:\n",
      "“Missing column names filled in: 'X13' [13]”Parsed with column specification:\n",
      "cols(\n",
      "  City = \u001b[31mcol_character()\u001b[39m,\n",
      "  Population = \u001b[32mcol_number()\u001b[39m,\n",
      "  Violent_crime = \u001b[32mcol_number()\u001b[39m,\n",
      "manslaughter` = \u001b[32mcol_double()\u001b[39m,\n",
      "  Rape = \u001b[32mcol_double()\u001b[39m,\n",
      "  Robbery = \u001b[32mcol_double()\u001b[39m,\n",
      "  Aggravated_assault = \u001b[32mcol_number()\u001b[39m,\n",
      "  Property_crime = \u001b[32mcol_number()\u001b[39m,\n",
      "  Burglary = \u001b[32mcol_number()\u001b[39m,\n",
      "  Larceny_theft = \u001b[32mcol_number()\u001b[39m,\n",
      "  Motor_vehicle_theft = \u001b[32mcol_double()\u001b[39m,\n",
      "  Arson = \u001b[32mcol_double()\u001b[39m,\n",
      "  X13 = \u001b[33mcol_logical()\u001b[39m\n",
      ")\n",
      "Parsed with column specification:\n",
      "cols(\n",
      "  County = \u001b[31mcol_character()\u001b[39m,\n",
      "  Violent_crime = \u001b[32mcol_double()\u001b[39m,\n",
      "manslaughter` = \u001b[32mcol_double()\u001b[39m,\n",
      "  Rape = \u001b[32mcol_double()\u001b[39m,\n",
      "  Robbery = \u001b[32mcol_double()\u001b[39m,\n",
      "  Aggravated_assault = \u001b[32mcol_double()\u001b[39m,\n",
      "  Property_crime = \u001b[32mcol_number()\u001b[39m,\n",
      "  Burglary = \u001b[32mcol_double()\u001b[39m,\n",
      "  Larceny_theft = \u001b[32mcol_number()\u001b[39m,\n",
      "  Motor_vehicle_theft = \u001b[32mcol_double()\u001b[39m,\n",
      "  Arson = \u001b[32mcol_double()\u001b[39m\n",
      ")\n"
     ]
    }
   ],
   "source": [
    "library (readr)\n",
    "library (dplyr)\n",
    "data2006 <- read_csv (\"csv2006.csv\")\n",
    "data2007 <- read_csv (\"csv2007.csv\")\n",
    "data2008 <- read_csv (\"csv2008.csv\")\n",
    "data2009 <- read_csv (\"csv2009.csv\")\n",
    "data2010 <- read_csv (\"csv2010.csv\")\n",
    "data2011 <- read_csv (\"csv2011.csv\")\n",
    "data2012 <- read_csv (\"csv2012.csv\")\n",
    "data2013 <- read_csv (\"csv2013.csv\")\n",
    "data2014<- read_csv (\"csv2014.csv\")\n",
    "data2015 <- read_csv (\"csv2015.csv\")\n",
    "data2016 <- read_csv (\"csv2016.csv\")\n",
    "vio2006 <- sum(data2006$Violent_crime, na.rm=TRUE)\n",
    "vio2007 <- sum(data2007$Violent_crime, na.rm=TRUE)\n",
    "vio2008 <- sum(data2008$Violent_crime, na.rm=TRUE)\n",
    "vio2009 <- sum(data2009$Violent_crime, na.rm=TRUE)\n",
    "vio2010 <- sum(data2010$Violent_crime, na.rm=TRUE)\n",
    "vio2011 <- sum(data2011$Violent_crime, na.rm=TRUE)\n",
    "vio2012 <- sum(data2012$Violent_crime, na.rm=TRUE)\n",
    "vio2013 <- sum(data2013$Violent_crime, na.rm=TRUE)\n",
    "vio2014 <- sum(data2014$Violent_crime, na.rm=TRUE)\n",
    "vio2015 <- sum(data2015$Violent_crime, na.rm=TRUE)\n",
    "vio2016 <- sum(data2016$Violent_crime, na.rm=TRUE)\n",
    "data <- data.frame(year = c(\"2006\",\"2007\",\"2008\",\"2009\",\"2010\",\"2011\",\"2012\",\"2013\",\"2014\",\"2015\",\"2016\"), violentcrime = c(vio2006,vio2007,vio2008,vio2009,vio2010,vio2011,vio2012,vio2013,vio2014,vio2015,vio2016 ) )\n",
    "\n"
   ]
  },
  {
   "cell_type": "code",
   "execution_count": 61,
   "metadata": {},
   "outputs": [
    {
     "data": {
      "text/html": [
       "<strong>png:</strong> 2"
      ],
      "text/latex": [
       "\\textbf{png:} 2"
      ],
      "text/markdown": [
       "**png:** 2"
      ],
      "text/plain": [
       "png \n",
       "  2 "
      ]
     },
     "metadata": {},
     "output_type": "display_data"
    }
   ],
   "source": [
    "library(ggplot2)\n",
    "\n",
    "jpeg(\"violent.jpg\")\n",
    "    ggplot(data,aes(x = year, y=violentcrime)) + \n",
    "    geom_bar( stat= \"identity\" , fill = \"skyblue\", colour = \"black\")+ \n",
    "    ggtitle(\"Violent crime over years\") + theme(plot.title = element_text(hjust = 0.5, size = 20, face = \"bold\"))    \n",
    "dev.off()\n",
    "\n"
   ]
  },
  {
   "cell_type": "code",
   "execution_count": 62,
   "metadata": {},
   "outputs": [
    {
     "data": {
      "text/html": [
       "<strong>png:</strong> 2"
      ],
      "text/latex": [
       "\\textbf{png:} 2"
      ],
      "text/markdown": [
       "**png:** 2"
      ],
      "text/plain": [
       "png \n",
       "  2 "
      ]
     },
     "metadata": {},
     "output_type": "display_data"
    }
   ],
   "source": [
    "bur2006 <- sum(data2006$Burglary, na.rm=TRUE)\n",
    "bur2007 <- sum(data2007$Burglary, na.rm=TRUE)\n",
    "bur2008 <- sum(data2008$Burglary, na.rm=TRUE)\n",
    "bur2009 <- sum(data2009$Burglary, na.rm=TRUE)\n",
    "bur2010 <- sum(data2010$Burglary, na.rm=TRUE)\n",
    "bur2011 <- sum(data2011$Burglary, na.rm=TRUE)\n",
    "bur2012 <- sum(data2012$Burglary, na.rm=TRUE)\n",
    "bur2013 <- sum(data2013$Burglary, na.rm=TRUE)\n",
    "bur2014 <- sum(data2014$Burglary, na.rm=TRUE)\n",
    "bur2015 <- sum(data2015$Burglary, na.rm=TRUE)\n",
    "bur2016 <- sum(data2016$Burglary, na.rm=TRUE)\n",
    "\n",
    "data2 <- data.frame(year = c(\"2006\",\"2007\",\"2008\",\"2009\",\"2010\",\"2011\",\"2012\",\"2013\",\"2014\",\"2015\",\"2016\"), burglary = c(bur2006,bur2007,bur2008,bur2009,bur2010,bur2011,bur2012,bur2013,bur2014,bur2015,bur2016 ) )\n",
    "\n",
    "jpeg(\"burglary.jpg\")\n",
    "    ggplot(data2 ,aes(x = year, y=burglary)) + \n",
    "    geom_bar( stat= \"identity\" , fill = \"skyblue\", colour = \"black\")+ \n",
    "    ggtitle(\"Burglary over years\") + theme(plot.title = element_text(hjust = 0.5, size = 20, face = \"bold\"))   \n",
    "dev.off()"
   ]
  },
  {
   "cell_type": "code",
   "execution_count": 63,
   "metadata": {},
   "outputs": [],
   "source": [
    "prop2006 <- sum(data2006$Property_crime, na.rm=TRUE)\n",
    "prop2007 <- sum(data2007$Property_crime, na.rm=TRUE)\n",
    "prop2008 <- sum(data2008$Property_crime, na.rm=TRUE)\n",
    "prop2009 <- sum(data2009$Property_crime, na.rm=TRUE)\n",
    "prop2010 <- sum(data2010$Property_crime, na.rm=TRUE)\n",
    "prop2011 <- sum(data2011$Property_crime, na.rm=TRUE)\n",
    "prop2012 <- sum(data2012$Property_crime, na.rm=TRUE)\n",
    "prop2013 <- sum(data2013$Property_crime, na.rm=TRUE)\n",
    "prop2014 <- sum(data2014$Property_crime, na.rm=TRUE)\n",
    "prop2015 <- sum(data2015$Property_crime, na.rm=TRUE)\n",
    "prop2016 <- sum(data2016$Property_crime, na.rm=TRUE)"
   ]
  },
  {
   "cell_type": "code",
   "execution_count": 64,
   "metadata": {},
   "outputs": [
    {
     "data": {
      "text/html": [
       "<strong>png:</strong> 2"
      ],
      "text/latex": [
       "\\textbf{png:} 2"
      ],
      "text/markdown": [
       "**png:** 2"
      ],
      "text/plain": [
       "png \n",
       "  2 "
      ]
     },
     "metadata": {},
     "output_type": "display_data"
    }
   ],
   "source": [
    "data3 <- data.frame(year = c(\"2006\",\"2007\",\"2008\",\"2009\",\"2010\",\"2011\",\"2012\",\"2013\",\"2014\",\"2015\",\"2016\"), property = c(prop2006,prop2007,prop2008,prop2009,prop2010,prop2011,prop2012,prop2013,prop2014,prop2015,prop2016 ) )\n",
    "\n",
    "jpeg(\"property.jpg\")\n",
    "   ggplot(data3 ,aes(x = year, y=property)) + \n",
    "   geom_bar( stat= \"identity\" , fill = \"skyblue\", colour = \"black\")+ \n",
    "   ggtitle(\"Property crime over years\") + \n",
    "   theme(plot.title = element_text(hjust = 0.5, size = 20, face = \"bold\"))   \n",
    "dev.off()\n"
   ]
  },
  {
   "cell_type": "code",
   "execution_count": 65,
   "metadata": {},
   "outputs": [],
   "source": [
    "\n",
    "crime2006 <- colSums(data2006[,c(3,4,5,6,7,8,9,10,11,12),],na.rm=TRUE)\n",
    "crime2007 <- colSums(data2007[,c(3,4,5,6,7,8,9,10,11,12),],na.rm=TRUE)\n",
    "crime2008 <- colSums(data2008[,c(3,4,5,6,7,8,9,10,11,12),],na.rm=TRUE)\n",
    "crime2009 <- colSums(data2009[,c(3,4,5,6,7,8,9,10,11,12),],na.rm=TRUE)\n",
    "crime2010 <- colSums(data2010[,c(3,4,5,6,7,8,9,10,11,12),],na.rm=TRUE)\n",
    "crime2011 <- colSums(data2011[,c(3,4,5,6,7,8,9,10,11,12),],na.rm=TRUE)\n",
    "crime2012 <- colSums(data2012[,c(3,4,5,6,7,8,9,10,11,12),],na.rm=TRUE)\n",
    "crime2013 <- colSums(data2013[,c(3,4,5,6,7,8,9,10,11,12),],na.rm=TRUE)\n",
    "crime2014 <- colSums(data2014[,c(3,4,5,6,7,8,9,10,11,12),],na.rm=TRUE)\n",
    "crime2015 <- colSums(data2015[,c(3,4,5,6,7,8,9,10,11,12),],na.rm=TRUE)\n",
    "crime2016 <- colSums(data2016[,c(2,3,4,5,6,7,8,9,10,11),],na.rm=TRUE)\n",
    "\n",
    "total2006 <- sum(crime2006)\n",
    "total2007 <- sum(crime2007)\n",
    "total2008 <- sum(crime2008)\n",
    "total2009 <- sum(crime2009)\n",
    "total2010 <- sum(crime2010)\n",
    "total2011 <- sum(crime2011)\n",
    "total2012 <- sum(crime2012)\n",
    "total2013 <- sum(crime2013)\n",
    "total2014 <- sum(crime2014)\n",
    "total2015 <- sum(crime2015)\n",
    "total2016 <- sum(crime2016)\n"
   ]
  },
  {
   "cell_type": "code",
   "execution_count": 66,
   "metadata": {},
   "outputs": [
    {
     "data": {
      "text/html": [
       "<strong>png:</strong> 2"
      ],
      "text/latex": [
       "\\textbf{png:} 2"
      ],
      "text/markdown": [
       "**png:** 2"
      ],
      "text/plain": [
       "png \n",
       "  2 "
      ]
     },
     "metadata": {},
     "output_type": "display_data"
    }
   ],
   "source": [
    "data4 <- data.frame(year = c(\"2006\",\"2007\",\"2008\",\"2009\",\"2010\",\"2011\",\"2012\",\"2013\",\"2014\",\"2015\",\"2016\"), \n",
    "                    total = c(total2006,total2007,total2008,total2009,total2010,\n",
    "                              total2011,total2012,total2013,total2014,total2015,total2016 ) )\n",
    "\n",
    "jpeg(\"total.jpg\")\n",
    "    ggplot(data4 ,aes(x = year, y=total)) + \n",
    "    geom_bar( stat= \"identity\" , fill = \"skyblue\", colour = \"black\")+ \n",
    "    ggtitle(\"Total crime over years\") + \n",
    "    theme(plot.title = element_text(hjust = 0.5, size = 20, face = \"bold\"))\n",
    "\n",
    "dev.off()\n",
    "\n"
   ]
  },
  {
   "cell_type": "code",
   "execution_count": null,
   "metadata": {},
   "outputs": [],
   "source": []
  }
 ],
 "metadata": {
  "kernelspec": {
   "display_name": "R",
   "language": "R",
   "name": "ir"
  },
  "language_info": {
   "codemirror_mode": "r",
   "file_extension": ".r",
   "mimetype": "text/x-r-source",
   "name": "R",
   "pygments_lexer": "r",
   "version": "3.6.1"
  }
 },
 "nbformat": 4,
 "nbformat_minor": 4
}
