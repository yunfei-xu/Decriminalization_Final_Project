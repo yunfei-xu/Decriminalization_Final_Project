{
 "cells": [
  {
   "cell_type": "markdown",
   "metadata": {},
   "source": [
    "# Load Data (Georgia)\n",
    "\n"
   ]
  },
  {
   "cell_type": "code",
   "execution_count": 1,
   "metadata": {},
   "outputs": [
    {
     "name": "stderr",
     "output_type": "stream",
     "text": [
      "Parsed with column specification:\n",
      "cols(\n",
      "  City = \u001b[31mcol_character()\u001b[39m,\n",
      "  Population = \u001b[32mcol_number()\u001b[39m,\n",
      "  Violent_crime = \u001b[32mcol_number()\u001b[39m,\n",
      "  Murderplus = \u001b[32mcol_double()\u001b[39m,\n",
      "  rape = \u001b[32mcol_double()\u001b[39m,\n",
      "  Robbery = \u001b[32mcol_number()\u001b[39m,\n",
      "  Assult = \u001b[32mcol_number()\u001b[39m,\n",
      "  Property_crime = \u001b[32mcol_number()\u001b[39m,\n",
      "  Burglary = \u001b[32mcol_number()\u001b[39m,\n",
      "  Larceny_theft = \u001b[32mcol_number()\u001b[39m,\n",
      "  vechicle_theft = \u001b[32mcol_number()\u001b[39m,\n",
      "  Arson = \u001b[32mcol_double()\u001b[39m\n",
      ")\n",
      "Parsed with column specification:\n",
      "cols(\n",
      "  City = \u001b[31mcol_character()\u001b[39m,\n",
      "  Population = \u001b[32mcol_number()\u001b[39m,\n",
      "  Violent_crime = \u001b[32mcol_number()\u001b[39m,\n",
      "  Murderplus = \u001b[32mcol_double()\u001b[39m,\n",
      "  rape = \u001b[32mcol_double()\u001b[39m,\n",
      "  Robbery = \u001b[32mcol_number()\u001b[39m,\n",
      "  Assult = \u001b[32mcol_number()\u001b[39m,\n",
      "  Property_crime = \u001b[32mcol_number()\u001b[39m,\n",
      "  Burglary = \u001b[32mcol_number()\u001b[39m,\n",
      "  Larceny_theft = \u001b[32mcol_number()\u001b[39m,\n",
      "  vechicle_theft = \u001b[32mcol_number()\u001b[39m,\n",
      "  Arson = \u001b[32mcol_double()\u001b[39m\n",
      ")\n",
      "Warning message:\n",
      "“Missing column names filled in: 'X13' [13]”Parsed with column specification:\n",
      "cols(\n",
      "  City = \u001b[31mcol_character()\u001b[39m,\n",
      "  Population = \u001b[32mcol_number()\u001b[39m,\n",
      "  Violent_crime = \u001b[32mcol_number()\u001b[39m,\n",
      "  Murderplus = \u001b[32mcol_double()\u001b[39m,\n",
      "  rape = \u001b[32mcol_double()\u001b[39m,\n",
      "  Robbery = \u001b[32mcol_number()\u001b[39m,\n",
      "  Assult = \u001b[32mcol_number()\u001b[39m,\n",
      "  Property_crime = \u001b[32mcol_number()\u001b[39m,\n",
      "  Burglary = \u001b[32mcol_number()\u001b[39m,\n",
      "  Larceny_theft = \u001b[32mcol_number()\u001b[39m,\n",
      "  vechicle_theft = \u001b[32mcol_number()\u001b[39m,\n",
      "  Arson = \u001b[32mcol_double()\u001b[39m,\n",
      "  X13 = \u001b[33mcol_logical()\u001b[39m\n",
      ")\n"
     ]
    }
   ],
   "source": [
    "library(readr)\n",
    "data2010<-read_csv(\"10tbl08ga.csv\")\n",
    "data2012<-read_csv(\"table_8_offenses_known_to_law_enforcement_by_georgia_by_city_2012-2.csv\")\n",
    "data2014<-read_csv(\"Table_8_Offenses_Known_to_Law_Enforcement_by_Georgia_by_City_2014.csv\")"
   ]
  },
  {
   "cell_type": "code",
   "execution_count": 13,
   "metadata": {},
   "outputs": [
    {
     "data": {
      "text/html": [
       "<table>\n",
       "<caption>A data.frame: 1 × 3</caption>\n",
       "<thead>\n",
       "\t<tr><th scope=col>a2010</th><th scope=col>a2012</th><th scope=col>a2014</th></tr>\n",
       "\t<tr><th scope=col>&lt;dbl&gt;</th><th scope=col>&lt;dbl&gt;</th><th scope=col>&lt;dbl&gt;</th></tr>\n",
       "</thead>\n",
       "<tbody>\n",
       "\t<tr><td>11960</td><td>11628</td><td>10026</td></tr>\n",
       "</tbody>\n",
       "</table>\n"
      ],
      "text/latex": [
       "A data.frame: 1 × 3\n",
       "\\begin{tabular}{r|lll}\n",
       " a2010 & a2012 & a2014\\\\\n",
       " <dbl> & <dbl> & <dbl>\\\\\n",
       "\\hline\n",
       "\t 11960 & 11628 & 10026\\\\\n",
       "\\end{tabular}\n"
      ],
      "text/markdown": [
       "\n",
       "A data.frame: 1 × 3\n",
       "\n",
       "| a2010 &lt;dbl&gt; | a2012 &lt;dbl&gt; | a2014 &lt;dbl&gt; |\n",
       "|---|---|---|\n",
       "| 11960 | 11628 | 10026 |\n",
       "\n"
      ],
      "text/plain": [
       "  a2010 a2012 a2014\n",
       "1 11960 11628 10026"
      ]
     },
     "metadata": {},
     "output_type": "display_data"
    }
   ],
   "source": [
    "ab<-data.frame(a2010=sum(data2010$Assult,na.rm=TRUE),a2012=sum(data2012$Assult,na.rm=TRUE),a2014=sum(data2014$Assult,na.rm=TRUE))\n",
    "ab"
   ]
  },
  {
   "cell_type": "code",
   "execution_count": 12,
   "metadata": {},
   "outputs": [
    {
     "data": {
      "text/html": [
       "<table>\n",
       "<caption>A data.frame: 1 × 3</caption>\n",
       "<thead>\n",
       "\t<tr><th scope=col>sum.data2010.Burglary..na.rm...TRUE.</th><th scope=col>sum.data2012.Burglary..na.rm...TRUE.</th><th scope=col>sum.data2014.Burglary..na.rm...TRUE.</th></tr>\n",
       "\t<tr><th scope=col>&lt;dbl&gt;</th><th scope=col>&lt;dbl&gt;</th><th scope=col>&lt;dbl&gt;</th></tr>\n",
       "</thead>\n",
       "<tbody>\n",
       "\t<tr><td>40191</td><td>36637</td><td>30039</td></tr>\n",
       "</tbody>\n",
       "</table>\n"
      ],
      "text/latex": [
       "A data.frame: 1 × 3\n",
       "\\begin{tabular}{r|lll}\n",
       " sum.data2010.Burglary..na.rm...TRUE. & sum.data2012.Burglary..na.rm...TRUE. & sum.data2014.Burglary..na.rm...TRUE.\\\\\n",
       " <dbl> & <dbl> & <dbl>\\\\\n",
       "\\hline\n",
       "\t 40191 & 36637 & 30039\\\\\n",
       "\\end{tabular}\n"
      ],
      "text/markdown": [
       "\n",
       "A data.frame: 1 × 3\n",
       "\n",
       "| sum.data2010.Burglary..na.rm...TRUE. &lt;dbl&gt; | sum.data2012.Burglary..na.rm...TRUE. &lt;dbl&gt; | sum.data2014.Burglary..na.rm...TRUE. &lt;dbl&gt; |\n",
       "|---|---|---|\n",
       "| 40191 | 36637 | 30039 |\n",
       "\n"
      ],
      "text/plain": [
       "  sum.data2010.Burglary..na.rm...TRUE. sum.data2012.Burglary..na.rm...TRUE.\n",
       "1 40191                                36637                               \n",
       "  sum.data2014.Burglary..na.rm...TRUE.\n",
       "1 30039                               "
      ]
     },
     "metadata": {},
     "output_type": "display_data"
    }
   ],
   "source": [
    "#data.frame(sum(data2010$Burglary,na.rm=TRUE),sum(data2012$Burglary,na.rm=TRUE),sum(data2014$Burglary,na.rm=TRUE))"
   ]
  },
  {
   "cell_type": "code",
   "execution_count": 4,
   "metadata": {},
   "outputs": [
    {
     "data": {
      "text/html": [
       "<table>\n",
       "<caption>A data.frame: 1 × 3</caption>\n",
       "<thead>\n",
       "\t<tr><th scope=col>sum.data2010.Murderplus..na.rm...TRUE.</th><th scope=col>sum.data2012.Murderplus..na.rm...TRUE.</th><th scope=col>sum.data2014.Murderplus..na.rm...TRUE.</th></tr>\n",
       "\t<tr><th scope=col>&lt;dbl&gt;</th><th scope=col>&lt;dbl&gt;</th><th scope=col>&lt;dbl&gt;</th></tr>\n",
       "</thead>\n",
       "<tbody>\n",
       "\t<tr><td>275</td><td>273</td><td>281</td></tr>\n",
       "</tbody>\n",
       "</table>\n"
      ],
      "text/latex": [
       "A data.frame: 1 × 3\n",
       "\\begin{tabular}{r|lll}\n",
       " sum.data2010.Murderplus..na.rm...TRUE. & sum.data2012.Murderplus..na.rm...TRUE. & sum.data2014.Murderplus..na.rm...TRUE.\\\\\n",
       " <dbl> & <dbl> & <dbl>\\\\\n",
       "\\hline\n",
       "\t 275 & 273 & 281\\\\\n",
       "\\end{tabular}\n"
      ],
      "text/markdown": [
       "\n",
       "A data.frame: 1 × 3\n",
       "\n",
       "| sum.data2010.Murderplus..na.rm...TRUE. &lt;dbl&gt; | sum.data2012.Murderplus..na.rm...TRUE. &lt;dbl&gt; | sum.data2014.Murderplus..na.rm...TRUE. &lt;dbl&gt; |\n",
       "|---|---|---|\n",
       "| 275 | 273 | 281 |\n",
       "\n"
      ],
      "text/plain": [
       "  sum.data2010.Murderplus..na.rm...TRUE. sum.data2012.Murderplus..na.rm...TRUE.\n",
       "1 275                                    273                                   \n",
       "  sum.data2014.Murderplus..na.rm...TRUE.\n",
       "1 281                                   "
      ]
     },
     "metadata": {},
     "output_type": "display_data"
    }
   ],
   "source": [
    "data.frame(sum(data2010$Murderplus,na.rm=TRUE),sum(data2012$Murderplus,na.rm=TRUE),sum(data2014$Murderplus,na.rm=TRUE))"
   ]
  },
  {
   "cell_type": "code",
   "execution_count": 5,
   "metadata": {},
   "outputs": [
    {
     "data": {
      "text/html": [
       "<table>\n",
       "<caption>A data.frame: 1 × 3</caption>\n",
       "<thead>\n",
       "\t<tr><th scope=col>sum.data2010.rape..na.rm...TRUE.</th><th scope=col>sum.data2012.rape..na.rm...TRUE.</th><th scope=col>sum.data2014.rape..na.rm...TRUE.</th></tr>\n",
       "\t<tr><th scope=col>&lt;dbl&gt;</th><th scope=col>&lt;dbl&gt;</th><th scope=col>&lt;dbl&gt;</th></tr>\n",
       "</thead>\n",
       "<tbody>\n",
       "\t<tr><td>782</td><td>899</td><td>837</td></tr>\n",
       "</tbody>\n",
       "</table>\n"
      ],
      "text/latex": [
       "A data.frame: 1 × 3\n",
       "\\begin{tabular}{r|lll}\n",
       " sum.data2010.rape..na.rm...TRUE. & sum.data2012.rape..na.rm...TRUE. & sum.data2014.rape..na.rm...TRUE.\\\\\n",
       " <dbl> & <dbl> & <dbl>\\\\\n",
       "\\hline\n",
       "\t 782 & 899 & 837\\\\\n",
       "\\end{tabular}\n"
      ],
      "text/markdown": [
       "\n",
       "A data.frame: 1 × 3\n",
       "\n",
       "| sum.data2010.rape..na.rm...TRUE. &lt;dbl&gt; | sum.data2012.rape..na.rm...TRUE. &lt;dbl&gt; | sum.data2014.rape..na.rm...TRUE. &lt;dbl&gt; |\n",
       "|---|---|---|\n",
       "| 782 | 899 | 837 |\n",
       "\n"
      ],
      "text/plain": [
       "  sum.data2010.rape..na.rm...TRUE. sum.data2012.rape..na.rm...TRUE.\n",
       "1 782                              899                             \n",
       "  sum.data2014.rape..na.rm...TRUE.\n",
       "1 837                             "
      ]
     },
     "metadata": {},
     "output_type": "display_data"
    }
   ],
   "source": [
    "data.frame(sum(data2010$rape,na.rm=TRUE),sum(data2012$rape,na.rm=TRUE),sum(data2014$rape,na.rm=TRUE))"
   ]
  },
  {
   "cell_type": "code",
   "execution_count": 14,
   "metadata": {},
   "outputs": [],
   "source": [
    "data.frame(sum(data2010$Robbery,na.rm=TRUE),sum(data2012$Robbery,na.rm=TRUE),sum(data2014$Robbery,na.rm=TRUE))"
   ]
  },
  {
   "cell_type": "code",
   "execution_count": 15,
   "metadata": {},
   "outputs": [],
   "source": [
    "data.frame(sum(data2010$Property_crime,na.rm=TRUE),sum(data2012$Property_crime,na.rm=TRUE),sum(data2014$Property_crime,na.rm=TRUE))"
   ]
  },
  {
   "cell_type": "code",
   "execution_count": 16,
   "metadata": {},
   "outputs": [],
   "source": [
    "data.frame(sum(data2010$Larceny_theft,na.rm=TRUE),sum(data2012$Larceny_theft,na.rm=TRUE),sum(data2014$Larceny_theft,na.rm=TRUE))"
   ]
  },
  {
   "cell_type": "code",
   "execution_count": 17,
   "metadata": {},
   "outputs": [],
   "source": [
    "data.frame(sum(data2010$vechicle_theft,na.rm=TRUE),sum(data2012$vechicle_theft,na.rm=TRUE),sum(data2014$vechicle_theft,na.rm=TRUE))"
   ]
  },
  {
   "cell_type": "code",
   "execution_count": 18,
   "metadata": {},
   "outputs": [],
   "source": [
    "data.frame(sum(data2010$Arson,na.rm=TRUE),sum(data2012$Arson,na.rm=TRUE),sum(data2014$Arson,na.rm=TRUE))"
   ]
  },
  {
   "cell_type": "code",
   "execution_count": 19,
   "metadata": {},
   "outputs": [],
   "source": [
    "assult<-c(sum(data2010$Assult,na.rm=TRUE),sum(data2012$Assult,na.rm=TRUE),sum(data2014$Assult,na.rm=TRUE))\n",
    "year<-c(2010,2012,2014)\n"
   ]
  },
  {
   "cell_type": "code",
   "execution_count": 20,
   "metadata": {},
   "outputs": [
    {
     "data": {
      "image/png": "[encoded data removed]",
      "text/plain": [
       "Plot with title “Assult in Georgia by year”"
      ]
     },
     "metadata": {},
     "output_type": "display_data"
    }
   ],
   "source": [
    "library(ggplot2)\n",
    "barplot(assult,main=\"Assult in Georgia by year\",xlab=\"year\",ylim=c(0,15000),names.arg=c(\"2010\", \"2012\", \"2014\"))\n",
    "text(assult, label = assult, pos = 3, cex = 1.0, col = \"red\")"
   ]
  },
  {
   "cell_type": "markdown",
   "metadata": {},
   "source": [
    "\n",
    "\n"
   ]
  },
  {
   "cell_type": "code",
   "execution_count": null,
   "metadata": {},
   "outputs": [],
   "source": []
  },
  {
   "cell_type": "code",
   "execution_count": null,
   "metadata": {},
   "outputs": [],
   "source": []
  },
  {
   "cell_type": "code",
   "execution_count": null,
   "metadata": {},
   "outputs": [],
   "source": []
  }
 ],
 "metadata": {
  "kernelspec": {
   "display_name": "R",
   "language": "R",
   "name": "ir"
  },
  "language_info": {
   "codemirror_mode": "r",
   "file_extension": ".r",
   "mimetype": "text/x-r-source",
   "name": "R",
   "pygments_lexer": "r",
   "version": "3.6.1"
  }
 },
 "nbformat": 4,
 "nbformat_minor": 4
}
